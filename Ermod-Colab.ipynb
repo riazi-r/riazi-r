{
  "cells": [
    {
      "cell_type": "markdown",
      "metadata": {
        "colab_type": "text",
        "id": "view-in-github"
      },
      "source": [
        "<a href=\"https://colab.research.google.com/github/riazi-r/riazi-r/blob/main/Ermod.ipynb\" target=\"_parent\"><img src=\"https://colab.research.google.com/assets/colab-badge.svg\" alt=\"Open In Colab\"/></a>"
      ]
    },
    {
      "cell_type": "code",
      "execution_count": null,
      "metadata": {
        "id": "Ha0E9yeqlFLr"
      },
      "outputs": [],
      "source": [
        "from google.colab import drive\n",
        "drive.mount('/content/gdrive')"
      ]
    },
    {
      "cell_type": "code",
      "execution_count": null,
      "metadata": {
        "id": "PzTaPuO70mOg"
      },
      "outputs": [],
      "source": [
        "%%bash\n",
        "#sudo apt-get install -y fftw3\n",
        "#sudo apt-get update -y\n",
        "#sudo apt install libfftw3\n",
        "#dpkg -L libfftw3-double\n",
        "wget http://fftw.org/fftw-3.3.10.tar.gz\n",
        "tar xzvf fftw-3.3.10.tar.gz\n",
        "cd fftw-3.3.10/\n",
        "./configure\n",
        "sudo make\n",
        "sudo make install"
      ]
    },
    {
      "cell_type": "code",
      "execution_count": null,
      "metadata": {
        "id": "YRxk5JGYYCzx"
      },
      "outputs": [],
      "source": [
        "#!apt-get install python 2.7.17\n",
        "#!sudo apt install python2-minimal"
      ]
    },
    {
      "cell_type": "code",
      "execution_count": null,
      "metadata": {
        "id": "AXww0papX0ak"
      },
      "outputs": [],
      "source": [
        "#!python --version\n",
        "!apt-get install python2.7\n",
        "!ln -sf /usr/bin/python2.7 /usr/bin/python\n",
        "!python2 -version"
      ]
    },
    {
      "cell_type": "code",
      "execution_count": null,
      "metadata": {
        "id": "Z9jUsAnjqIPN"
      },
      "outputs": [],
      "source": [
        "#Download, configure and check NAMD\n",
        "%%bash\n",
        "wget https://www.ks.uiuc.edu/Research/namd/alpha/3.0alpha/download/NAMD_3.0alpha12_Linux-x86_64-multicore-CUDA-SingleNode.tar.gz\n",
        "tar -xvf NAMD_3.0alpha12_Linux-x86_64-multicore-CUDA-SingleNode.tar.gz\n",
        "mv -f NAMD_3.0alpha12_Linux-x86_64-multicore-CUDA namdgpu"
      ]
    },
    {
      "cell_type": "code",
      "execution_count": null,
      "metadata": {
        "id": "Y4OwwqQhy073"
      },
      "outputs": [],
      "source": [
        "%%bash\n",
        "wget https://sourceforge.net/projects/ermod/files/latest/download\n",
        "tar xzvf download\n",
        "mv ermod-0.3.8/ ermod\n",
        "cd ermod\n",
        "./configure --with-fftw=/user/local/lib --prefix=/content/ermod/\n",
        "cp /content/gdrive/MyDrive/sim/Makefile /content/ermod/\n",
        "sudo make\n",
        "sudo make install"
      ]
    },
    {
      "cell_type": "code",
      "execution_count": null,
      "metadata": {
        "id": "W7IZWNHJytlN"
      },
      "outputs": [],
      "source": [
        "!cp /content/gdrive/MyDrive/sim/Run.zip /content/\n",
        "!unzip Run.zip\n",
        "!cp  /content/gdrive/MyDrive/sim/NAMD-ERMOD-FEED.gz /content/Run/\n",
        "!tar xzfv /content/Run/NAMD-ERMOD-FEED.gz -C /content/Run\n",
        "!cp  /content/gdrive/MyDrive/sim/NAMD-ERMOD-soltionNPT-soluteNVT.gz /content/Run/\n",
        "!tar xzfv /content/Run/NAMD-ERMOD-soltionNPT-soluteNVT.gz -C /content/Run\n",
        "!tar xzfv /content/gdrive/MyDrive/sim/NAMD-ERMOD-solvent.gz -C /content/Run\n",
        "!cp  /content/gdrive/MyDrive/sim/gen_structure /content/ermod/share/ermod/tools/NAMD/\n",
        "!cp  /content/gdrive/MyDrive/sim/gen_input /content/ermod/share/ermod/tools/NAMD/\n",
        "!mkdir B3\n",
        "!mkdir B4\n",
        "!cp  /content/gdrive/MyDrive/sim/soln_B_3.tar.gz /content/\n",
        "!cp  /content/gdrive/MyDrive/sim/soln_B_4.tar.gz /content/\n",
        "!tar xzfv /content/soln_B_3.tar.gz -C /content/B3\n",
        "!tar xzfv /content/soln_B_4.tar.gz -C /content/B4\n",
        "!cp  /content/gdrive/MyDrive/sim/refs_B_3.tar.gz /content/\n",
        "!cp  /content/gdrive/MyDrive/sim/refs_B_4.tar.gz /content/\n",
        "!tar xzfv /content/refs_B_3.tar.gz -C /content/B3\n",
        "!tar xzfv /content/refs_B_4.tar.gz -C /content/B4"
      ]
    },
    {
      "cell_type": "code",
      "execution_count": null,
      "metadata": {
        "id": "DQh_jRbLib0R"
      },
      "outputs": [],
      "source": [
        "!pip install colab-xterm\n",
        "%load_ext colabxterm\n",
        "%xterm"
      ]
    },
    {
      "cell_type": "code",
      "execution_count": null,
      "metadata": {
        "id": "-asQzg5u2rD1"
      },
      "outputs": [],
      "source": [
        "rm -r B4/*"
      ]
    },
    {
      "cell_type": "code",
      "execution_count": null,
      "metadata": {
        "id": "RuAUZiatFkiI"
      },
      "outputs": [],
      "source": [
        "%%bash\n",
        "#cd /content/content/test\n",
        "#/content/ermod/share/ermod/tools/NAMD/gen_structure --psf solution.psf --conf solutionNPT.conf\n",
        "#cd soln\n",
        "#/content/ermod/share/ermod/tools/NAMD/gen_input --dcd ../solutionNPT.dcd --log ../solutionNPT.log\n",
        "#/content/ermod/bin/ermod\n",
        "#/content/ermod/share/ermod/tools/NAMD/gen_structure --psf solution.psf --conf solutionNPT.conf\n",
        "#tar xzvf /content/gdrive/MyDrive/sim/refs.tar.gz\n",
        "#cd refs\n",
        "#/content/ermod/share/ermod/tools/NAMD/gen_input --dcd ../solventNPT2.dcd --log ../solventNPT2.log --flexible ../soluteNVT.dcd\n",
        "#/content/ermod/share/ermod/tools/NAMD/gen_input --dcd ../solventNPT2.dcd --log ../solventNPT2.log --rigid ../solute.pdb\n",
        "#cp /content/gdrive/MyDrive/sim/parameters_er_refs /content/Run/refs/\n",
        "#mv /content/Run/refs/parameters_er_refs  /content/Run/refs/parameters_er\n",
        "#/content/ermod/bin/ermod\n",
        "#cd ..\n",
        "#tar czvf refs3.tar.gz refs\n",
        "#cp refs3.tar.gz /content/gdrive/MyDrive/sim/\n",
        "source exectest4.sh"
      ]
    },
    {
      "cell_type": "code",
      "execution_count": null,
      "metadata": {
        "id": "1pU0Q11jktIG"
      },
      "outputs": [],
      "source": [
        "!tar czvf ermod.tar.gz ermod\n",
        "!cp  ermod.tar.gz /content/gdrive/MyDrive/sim/"
      ]
    },
    {
      "cell_type": "code",
      "execution_count": null,
      "metadata": {
        "id": "ytsu11KUWOfi"
      },
      "outputs": [],
      "source": [
        "%%bash\n",
        "#unzip test.zip\n",
        "cd test\n",
        "source exectest.sh"
      ]
    },
    {
      "cell_type": "code",
      "execution_count": null,
      "metadata": {
        "id": "FRB4zl656qcs"
      },
      "outputs": [],
      "source": [
        "%%bash\n",
        "cd Run\n",
        "#/content/ermod/share/ermod/tools/NAMD/gen_structure --psf solution.psf --conf solutionNPT.conf\n",
        "cd soln\n",
        "/content/ermod/share/ermod/tools/NAMD/gen_input --dcd ../solutionNPT.dcd --log ../solutionNPT.log\n",
        "cp /content/gdrive/MyDrive/sim/parameters_er_soln  /content/Run/soln/\n",
        "mv /content/Run/soln/parameters_er_soln  /content/Run/soln/parameters_er\n",
        "#sudo mpirun --allow-run-as-root -n 1 /content/ermod/bin/ermod\n",
        "/content/ermod/bin/ermod\n",
        "cd ..\n",
        "tar czvf soln2.tar.gz soln\n",
        "cp soln2.tar.gz /content/gdrive/MyDrive/sim/\n",
        "#!sudo mpirun --allow-run-as-root -np 2 /content/ermod/bin/slvfe"
      ]
    },
    {
      "cell_type": "code",
      "execution_count": null,
      "metadata": {
        "id": "OvhJ8ueTcvu4"
      },
      "outputs": [],
      "source": [
        "%%bash\n",
        "cd Run\n",
        "/content/ermod/bin/slvfe"
      ]
    },
    {
      "cell_type": "code",
      "execution_count": null,
      "metadata": {
        "id": "cZJB-Z6kQm1D"
      },
      "outputs": [],
      "source": []
    },
    {
      "cell_type": "code",
      "execution_count": null,
      "metadata": {
        "id": "LjH5dKRkQ13Y"
      },
      "outputs": [],
      "source": [
        "%%bash\n",
        "cd Run\n",
        "/content/ermod/bin/slvfe"
      ]
    },
    {
      "cell_type": "code",
      "execution_count": null,
      "metadata": {
        "id": "HQTFoFrJj5Cs"
      },
      "outputs": [],
      "source": [
        "!pip install colab-xterm\n",
        "%load_ext colabxterm\n",
        "%xterm"
      ]
    },
    {
      "cell_type": "code",
      "execution_count": null,
      "metadata": {
        "id": "5AqlINhHv3Qn"
      },
      "outputs": [],
      "source": [
        "#!tar czvf refs.tar.gz Run/refs/\n",
        "#!cp refs.tar.gz /content/gdrive/MyDrive/sim/"
      ]
    },
    {
      "cell_type": "code",
      "execution_count": null,
      "metadata": {
        "id": "PxskajGq3LHc"
      },
      "outputs": [],
      "source": [
        "#!ls /bin"
      ]
    },
    {
      "cell_type": "code",
      "execution_count": null,
      "metadata": {
        "id": "gBH5js2R4Kkm"
      },
      "outputs": [],
      "source": [
        "from google.colab import runtime\n",
        "runtime.unassign()"
      ]
    }
  ],
  "metadata": {
    "colab": {
      "gpuType": "T4",
      "include_colab_link": true,
      "private_outputs": true,
      "provenance": []
    },
    "kernelspec": {
      "display_name": "Python 3",
      "name": "python3"
    },
    "language_info": {
      "name": "python"
    }
  },
  "nbformat": 4,
  "nbformat_minor": 0
}
